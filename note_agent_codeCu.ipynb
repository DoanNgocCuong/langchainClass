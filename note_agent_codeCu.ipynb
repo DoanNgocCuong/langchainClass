{
 "cells": [
  {
   "cell_type": "markdown",
   "metadata": {},
   "source": [
    "Tôi sẽ giải thích chi tiết từng phần của code:\n",
    "\n",
    "1. Phần Import:\n",
    "```python\n",
    "from langchain.tools.retriever import create_retriever_tool\n",
    "from langchain_openai import ChatOpenAI\n",
    "from langchain.agents import AgentExecutor, create_openai_functions_agent\n",
    "```\n",
    "- Các import này cung cấp các công cụ cần thiết từ thư viện LangChain để tạo agent, sử dụng ChatGPT và tạo công cụ tìm kiếm\n",
    "\n",
    "2. Hàm `get_retriever()`:\n",
    "```python\n",
    "def get_retriever(collection_name: str = \"data_test\") -> EnsembleRetriever:\n",
    "```\n",
    "- Đây là hàm tạo bộ tìm kiếm kết hợp (ensemble retriever) bao gồm:\n",
    "  - Vector search sử dụng Milvus (với trọng số 0.7)\n",
    "  - Tìm kiếm BM25 (với trọng số 0.3)\n",
    "- Hàm này:\n",
    "  - Kết nối với cơ sở dữ liệu Milvus\n",
    "  - Tạo vector retriever với k=4 kết quả\n",
    "  - Tạo BM25 retriever từ documents\n",
    "  - Kết hợp cả hai retriever với tỷ lệ 70-30\n",
    "- Có xử lý lỗi để trả về retriever mặc định nếu có vấn đề\n",
    "\n",
    "3. Tạo công cụ tìm kiếm:\n",
    "```python\n",
    "tool = create_retriever_tool(\n",
    "    get_retriever(),\n",
    "    \"find\",\n",
    "    \"Search for information of Stack AI.\"\n",
    ")\n",
    "```\n",
    "- Tạo một công cụ tìm kiếm cho agent sử dụng retriever đã tạo\n",
    "- Công cụ này có tên \"find\" và mô tả chức năng tìm kiếm thông tin về Stack AI\n",
    "\n",
    "4. Hàm `get_llm_and_agent()`:\n",
    "```python\n",
    "def get_llm_and_agent(_retriever) -> AgentExecutor:\n",
    "```\n",
    "- Hàm này khởi tạo và cấu hình:\n",
    "  - Model ngôn ngữ (ChatGPT-4)\n",
    "  - Agent với các đặc điểm:\n",
    "    - Temperature = 0 (ít ngẫu nhiên)\n",
    "    - Có streaming\n",
    "    - Sử dụng prompt template tùy chỉnh\n",
    "    - Tên agent là \"ChatchatAI\"\n",
    "- Prompt template bao gồm:\n",
    "  - System message\n",
    "  - Chat history\n",
    "  - Input từ người dùng\n",
    "  - Agent scratchpad (không gian làm việc của agent)\n",
    "\n",
    "5. Khởi tạo cuối cùng:\n",
    "```python\n",
    "retriever = get_retriever()\n",
    "agent_executor = get_llm_and_agent(retriever)\n",
    "```\n",
    "- Tạo instance của retriever và agent để sử dụng trong ứng dụng\n",
    "\n",
    "Đoạn code này tạo một hệ thống chatbot thông minh có khả năng:\n",
    "- Tìm kiếm thông tin từ cơ sở dữ liệu bằng cả vector search và BM25\n",
    "- Sử dụng GPT-4 để xử lý và trả lời câu hỏi\n",
    "- Duy trì ngữ cảnh hội thoại thông qua chat history\n",
    "- Xử lý lỗi một cách graceful nếu có vấn đề với cơ sở dữ liệu"
   ]
  },
  {
   "cell_type": "markdown",
   "metadata": {},
   "source": [
    "# 2. "
   ]
  },
  {
   "cell_type": "markdown",
   "metadata": {},
   "source": [
    "Bỏ việc RAG và truy vấn RAG. Chỉ đơn thuần là chatbot với gpt4 sau đó lưu kết quả vào langchain như code cũ \n",
    "\n",
    "<tóm lại chỉ bỏ việc RAG và truy vấn RAG trong code cũ >"
   ]
  },
  {
   "cell_type": "markdown",
   "metadata": {},
   "source": [
    "Nên chia code này thành backend, frontend để về sau thay 1 cái UI mới. "
   ]
  }
 ],
 "metadata": {
  "language_info": {
   "name": "python"
  }
 },
 "nbformat": 4,
 "nbformat_minor": 2
}
