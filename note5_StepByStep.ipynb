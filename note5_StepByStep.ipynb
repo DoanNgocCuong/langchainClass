{
 "cells": [
  {
   "cell_type": "markdown",
   "metadata": {},
   "source": [
    "Ý tưởng ban đầu: Nhúng chatbot dify lên Mindpal để chat kèm theo các thứ. "
   ]
  },
  {
   "cell_type": "markdown",
   "metadata": {},
   "source": [
    "# 1. Define version: \n",
    "- Ver 1: Nhúng chatbot cần 2 trường: Context và Question (user_input).\n",
    "- Ver 2: Có thêm Recommend câu hỏi cho User bằng 1 con Agent. \n",
    "    - Agent: Dựa vào Context => Recommend câu hỏi cho user nên hỏi. \n",
    "        - Input: Context(Langchain)\n",
    "        - Output: Câu hỏi mà user nên hỏi. \n",
    "- Ver 3: Context(Langchain) + Questions của (Context + Agent) được truyền vào Chatbot. "
   ]
  },
  {
   "cell_type": "markdown",
   "metadata": {},
   "source": [
    "- Database thao tác với langchain.  => Cần tương tác nó với database của Dify như nào? \n",
    "- Database thao tác với Milvus"
   ]
  },
  {
   "cell_type": "markdown",
   "metadata": {},
   "source": [
    "- langchain đang hỗ trợ những gì, có cái template code sẵn của langchain không. Chatbot - langchain framework (frame work được phát triển từ langchain) "
   ]
  },
  {
   "cell_type": "markdown",
   "metadata": {},
   "source": [
    "# 2. Chatbot: "
   ]
  },
  {
   "cell_type": "markdown",
   "metadata": {},
   "source": [
    "- Cần 1 trương: Context và Question "
   ]
  }
 ],
 "metadata": {
  "language_info": {
   "name": "python"
  }
 },
 "nbformat": 4,
 "nbformat_minor": 2
}
